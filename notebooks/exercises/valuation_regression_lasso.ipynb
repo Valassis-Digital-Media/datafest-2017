{
 "cells": [
  {
   "cell_type": "markdown",
   "metadata": {
    "deletable": true,
    "editable": true
   },
   "source": [
    "# S&P 500 P/E Analysis - Regression Modeling - Model Selection Using L1  "
   ]
  },
  {
   "cell_type": "markdown",
   "metadata": {
    "deletable": true,
    "editable": true
   },
   "source": [
    "### Credit:\n",
    "    Data for this exercise is based on the S&P 500 companies fundamental data provided by Dominik Gawlik at\n",
    "    https://www.kaggle.com/dgawlik/nyse"
   ]
  },
  {
   "cell_type": "markdown",
   "metadata": {
    "deletable": true,
    "editable": true
   },
   "source": [
    "## Learning Objectives"
   ]
  },
  {
   "cell_type": "markdown",
   "metadata": {
    "deletable": true,
    "editable": true
   },
   "source": [
    "Run a basic regression using L1 regularization to conduct variable selection\n",
    "    * run a simple OLS\n",
    "    * analyze output\n",
    "    * run L1 regression\n",
    "    * interpret model parameters"
   ]
  },
  {
   "cell_type": "markdown",
   "metadata": {
    "deletable": true,
    "editable": true
   },
   "source": [
    "## Imports"
   ]
  },
  {
   "cell_type": "code",
   "execution_count": 1,
   "metadata": {
    "collapsed": true,
    "deletable": true,
    "editable": true
   },
   "outputs": [],
   "source": [
    "import pandas as pd\n",
    "import statsmodels.api as sms\n",
    "import sklearn.linear_model as lm"
   ]
  },
  {
   "cell_type": "markdown",
   "metadata": {
    "deletable": true,
    "editable": true
   },
   "source": [
    "## Get Data and Subset Data"
   ]
  },
  {
   "cell_type": "code",
   "execution_count": 2,
   "metadata": {
    "collapsed": true,
    "deletable": true,
    "editable": true
   },
   "outputs": [],
   "source": [
    "# Import data from the csv file\n",
    "df = pd.read_csv('data/relative_valuation.csv')"
   ]
  },
  {
   "cell_type": "code",
   "execution_count": 3,
   "metadata": {
    "collapsed": false,
    "deletable": true,
    "editable": true,
    "scrolled": true
   },
   "outputs": [],
   "source": [
    "# subset the dataframe removing rows with NULL values\n",
    "bix = df.notnull().all(axis=1)\n",
    "df = df[bix]"
   ]
  },
  {
   "cell_type": "markdown",
   "metadata": {
    "deletable": true,
    "editable": true
   },
   "source": [
    "## A First Regression Model Using All Variables"
   ]
  },
  {
   "cell_type": "code",
   "execution_count": 4,
   "metadata": {
    "collapsed": false,
    "deletable": true,
    "editable": true
   },
   "outputs": [
    {
     "data": {
      "text/html": [
       "<div>\n",
       "<table border=\"1\" class=\"dataframe\">\n",
       "  <thead>\n",
       "    <tr style=\"text-align: right;\">\n",
       "      <th></th>\n",
       "      <th>EarningsPerShare</th>\n",
       "      <th>Pre-TaxROE</th>\n",
       "      <th>AfterTaxROE</th>\n",
       "      <th>CashRatio</th>\n",
       "      <th>QuickRatio</th>\n",
       "      <th>GrossMargin</th>\n",
       "      <th>OperatingMargin</th>\n",
       "      <th>Pre-TaxMargin</th>\n",
       "      <th>debt_to_asset</th>\n",
       "      <th>debt_to_equity</th>\n",
       "      <th>operating_cash_flow_margin</th>\n",
       "      <th>profit_margin</th>\n",
       "      <th>ebit_margin</th>\n",
       "      <th>p/e</th>\n",
       "      <th>p/s</th>\n",
       "      <th>capital_surplus_to_asset</th>\n",
       "      <th>Goodwill_to_asset</th>\n",
       "    </tr>\n",
       "  </thead>\n",
       "  <tbody>\n",
       "    <tr>\n",
       "      <th>count</th>\n",
       "      <td>146.000000</td>\n",
       "      <td>146.000000</td>\n",
       "      <td>146.000000</td>\n",
       "      <td>146.000000</td>\n",
       "      <td>146.000000</td>\n",
       "      <td>146.000000</td>\n",
       "      <td>146.000000</td>\n",
       "      <td>146.000000</td>\n",
       "      <td>146.000000</td>\n",
       "      <td>146.000000</td>\n",
       "      <td>146.000000</td>\n",
       "      <td>146.000000</td>\n",
       "      <td>146.000000</td>\n",
       "      <td>146.000000</td>\n",
       "      <td>146.000000</td>\n",
       "      <td>146.000000</td>\n",
       "      <td>146.000000</td>\n",
       "    </tr>\n",
       "    <tr>\n",
       "      <th>mean</th>\n",
       "      <td>3.458767</td>\n",
       "      <td>22.294521</td>\n",
       "      <td>15.424658</td>\n",
       "      <td>47.726027</td>\n",
       "      <td>123.602740</td>\n",
       "      <td>30.479452</td>\n",
       "      <td>12.082192</td>\n",
       "      <td>11.109589</td>\n",
       "      <td>0.227528</td>\n",
       "      <td>0.750862</td>\n",
       "      <td>13.691306</td>\n",
       "      <td>8.313016</td>\n",
       "      <td>12.753143</td>\n",
       "      <td>21.888464</td>\n",
       "      <td>1.400077</td>\n",
       "      <td>16.900353</td>\n",
       "      <td>17.737734</td>\n",
       "    </tr>\n",
       "    <tr>\n",
       "      <th>std</th>\n",
       "      <td>2.378205</td>\n",
       "      <td>10.204913</td>\n",
       "      <td>6.803484</td>\n",
       "      <td>55.610780</td>\n",
       "      <td>81.785209</td>\n",
       "      <td>10.876244</td>\n",
       "      <td>6.039533</td>\n",
       "      <td>6.568602</td>\n",
       "      <td>0.125635</td>\n",
       "      <td>0.704992</td>\n",
       "      <td>8.638832</td>\n",
       "      <td>4.787935</td>\n",
       "      <td>7.364707</td>\n",
       "      <td>12.497488</td>\n",
       "      <td>3.174792</td>\n",
       "      <td>17.061349</td>\n",
       "      <td>16.369561</td>\n",
       "    </tr>\n",
       "    <tr>\n",
       "      <th>min</th>\n",
       "      <td>-2.580000</td>\n",
       "      <td>1.000000</td>\n",
       "      <td>2.000000</td>\n",
       "      <td>0.000000</td>\n",
       "      <td>10.000000</td>\n",
       "      <td>6.000000</td>\n",
       "      <td>0.000000</td>\n",
       "      <td>1.000000</td>\n",
       "      <td>0.000000</td>\n",
       "      <td>0.000000</td>\n",
       "      <td>-9.241430</td>\n",
       "      <td>-2.252885</td>\n",
       "      <td>1.409390</td>\n",
       "      <td>-28.779070</td>\n",
       "      <td>0.000000</td>\n",
       "      <td>0.000000</td>\n",
       "      <td>0.000000</td>\n",
       "    </tr>\n",
       "    <tr>\n",
       "      <th>25%</th>\n",
       "      <td>1.860000</td>\n",
       "      <td>15.000000</td>\n",
       "      <td>10.250000</td>\n",
       "      <td>11.250000</td>\n",
       "      <td>71.000000</td>\n",
       "      <td>23.000000</td>\n",
       "      <td>8.000000</td>\n",
       "      <td>6.250000</td>\n",
       "      <td>0.144506</td>\n",
       "      <td>0.297018</td>\n",
       "      <td>7.498277</td>\n",
       "      <td>4.645786</td>\n",
       "      <td>7.306614</td>\n",
       "      <td>15.544375</td>\n",
       "      <td>0.015095</td>\n",
       "      <td>4.341478</td>\n",
       "      <td>1.372582</td>\n",
       "    </tr>\n",
       "    <tr>\n",
       "      <th>50%</th>\n",
       "      <td>2.970000</td>\n",
       "      <td>22.500000</td>\n",
       "      <td>15.000000</td>\n",
       "      <td>31.000000</td>\n",
       "      <td>104.500000</td>\n",
       "      <td>32.000000</td>\n",
       "      <td>12.000000</td>\n",
       "      <td>11.000000</td>\n",
       "      <td>0.228223</td>\n",
       "      <td>0.604959</td>\n",
       "      <td>12.497273</td>\n",
       "      <td>7.820948</td>\n",
       "      <td>12.338856</td>\n",
       "      <td>19.937240</td>\n",
       "      <td>0.051733</td>\n",
       "      <td>11.979672</td>\n",
       "      <td>14.443672</td>\n",
       "    </tr>\n",
       "    <tr>\n",
       "      <th>75%</th>\n",
       "      <td>4.415000</td>\n",
       "      <td>30.000000</td>\n",
       "      <td>20.750000</td>\n",
       "      <td>60.000000</td>\n",
       "      <td>154.750000</td>\n",
       "      <td>39.000000</td>\n",
       "      <td>16.750000</td>\n",
       "      <td>15.000000</td>\n",
       "      <td>0.309276</td>\n",
       "      <td>0.934102</td>\n",
       "      <td>18.348204</td>\n",
       "      <td>11.074523</td>\n",
       "      <td>16.729717</td>\n",
       "      <td>24.846098</td>\n",
       "      <td>1.104627</td>\n",
       "      <td>25.109497</td>\n",
       "      <td>30.055251</td>\n",
       "    </tr>\n",
       "    <tr>\n",
       "      <th>max</th>\n",
       "      <td>14.350000</td>\n",
       "      <td>45.000000</td>\n",
       "      <td>29.000000</td>\n",
       "      <td>309.000000</td>\n",
       "      <td>619.000000</td>\n",
       "      <td>49.000000</td>\n",
       "      <td>28.000000</td>\n",
       "      <td>47.000000</td>\n",
       "      <td>0.627004</td>\n",
       "      <td>4.876463</td>\n",
       "      <td>48.471436</td>\n",
       "      <td>27.681027</td>\n",
       "      <td>56.710750</td>\n",
       "      <td>81.619043</td>\n",
       "      <td>18.767629</td>\n",
       "      <td>91.464171</td>\n",
       "      <td>61.195090</td>\n",
       "    </tr>\n",
       "  </tbody>\n",
       "</table>\n",
       "</div>"
      ],
      "text/plain": [
       "       EarningsPerShare  Pre-TaxROE  AfterTaxROE   CashRatio  QuickRatio  \\\n",
       "count        146.000000  146.000000   146.000000  146.000000  146.000000   \n",
       "mean           3.458767   22.294521    15.424658   47.726027  123.602740   \n",
       "std            2.378205   10.204913     6.803484   55.610780   81.785209   \n",
       "min           -2.580000    1.000000     2.000000    0.000000   10.000000   \n",
       "25%            1.860000   15.000000    10.250000   11.250000   71.000000   \n",
       "50%            2.970000   22.500000    15.000000   31.000000  104.500000   \n",
       "75%            4.415000   30.000000    20.750000   60.000000  154.750000   \n",
       "max           14.350000   45.000000    29.000000  309.000000  619.000000   \n",
       "\n",
       "       GrossMargin  OperatingMargin  Pre-TaxMargin  debt_to_asset  \\\n",
       "count   146.000000       146.000000     146.000000     146.000000   \n",
       "mean     30.479452        12.082192      11.109589       0.227528   \n",
       "std      10.876244         6.039533       6.568602       0.125635   \n",
       "min       6.000000         0.000000       1.000000       0.000000   \n",
       "25%      23.000000         8.000000       6.250000       0.144506   \n",
       "50%      32.000000        12.000000      11.000000       0.228223   \n",
       "75%      39.000000        16.750000      15.000000       0.309276   \n",
       "max      49.000000        28.000000      47.000000       0.627004   \n",
       "\n",
       "       debt_to_equity  operating_cash_flow_margin  profit_margin  ebit_margin  \\\n",
       "count      146.000000                  146.000000     146.000000   146.000000   \n",
       "mean         0.750862                   13.691306       8.313016    12.753143   \n",
       "std          0.704992                    8.638832       4.787935     7.364707   \n",
       "min          0.000000                   -9.241430      -2.252885     1.409390   \n",
       "25%          0.297018                    7.498277       4.645786     7.306614   \n",
       "50%          0.604959                   12.497273       7.820948    12.338856   \n",
       "75%          0.934102                   18.348204      11.074523    16.729717   \n",
       "max          4.876463                   48.471436      27.681027    56.710750   \n",
       "\n",
       "              p/e         p/s  capital_surplus_to_asset  Goodwill_to_asset  \n",
       "count  146.000000  146.000000                146.000000         146.000000  \n",
       "mean    21.888464    1.400077                 16.900353          17.737734  \n",
       "std     12.497488    3.174792                 17.061349          16.369561  \n",
       "min    -28.779070    0.000000                  0.000000           0.000000  \n",
       "25%     15.544375    0.015095                  4.341478           1.372582  \n",
       "50%     19.937240    0.051733                 11.979672          14.443672  \n",
       "75%     24.846098    1.104627                 25.109497          30.055251  \n",
       "max     81.619043   18.767629                 91.464171          61.195090  "
      ]
     },
     "execution_count": 4,
     "metadata": {},
     "output_type": "execute_result"
    }
   ],
   "source": [
    "df.describe()"
   ]
  },
  {
   "cell_type": "code",
   "execution_count": 5,
   "metadata": {
    "collapsed": false,
    "deletable": true,
    "editable": true
   },
   "outputs": [],
   "source": [
    "columns = [ 'Pre-TaxROE',\n",
    "            'AfterTaxROE',\n",
    "            'CashRatio', \n",
    "           'QuickRatio',\n",
    "           'OperatingMargin',\n",
    "           'Pre-TaxMargin', \n",
    "           'profit_margin',\n",
    "           'operating_cash_flow_margin',\n",
    "           'debt_to_equity', \n",
    "           'debt_to_asset', \n",
    "           'capital_surplus_to_asset',\n",
    "           'Goodwill_to_asset',\n",
    "          ]"
   ]
  },
  {
   "cell_type": "markdown",
   "metadata": {
    "deletable": true,
    "editable": true
   },
   "source": [
    "#### Specify the OLS Model"
   ]
  },
  {
   "cell_type": "code",
   "execution_count": 6,
   "metadata": {
    "collapsed": false,
    "deletable": true,
    "editable": true
   },
   "outputs": [],
   "source": [
    "model = sms.OLS(df['p/e'], df[columns])"
   ]
  },
  {
   "cell_type": "markdown",
   "metadata": {
    "deletable": true,
    "editable": true
   },
   "source": [
    "#### Fit the model"
   ]
  },
  {
   "cell_type": "code",
   "execution_count": 7,
   "metadata": {
    "collapsed": false,
    "deletable": true,
    "editable": true
   },
   "outputs": [],
   "source": [
    "result = model.fit()"
   ]
  },
  {
   "cell_type": "markdown",
   "metadata": {
    "deletable": true,
    "editable": true
   },
   "source": [
    "Notes:\n",
    "\n",
    "* Adjusted R-Square at 0.778 indicates a resonably good model fit\n",
    "\n",
    "* Several variables are statistically significant\n",
    "  * Pre-TaxROE\n",
    "  * AfterTaxROE\n",
    "  * OperatingMargin\n",
    "  * Pre-TaxMargin\n",
    "  * profit_margin\n",
    "  * capital_surplus_to_asset\n",
    "  * goodwill_to_asset\n",
    "\n",
    "\n",
    " * Warning Signs\n",
    "  * Warning indicating strong multicollinearity\n",
    "  * Regression coefficients defies common sense\n",
    "    * AfterTaxROE coefficient (statistically significant) is negative (-2.5335) indicating a high valuation for firms with lower ROE\n",
    "    * Pre-TarMargin coefficient (statistically significant) is negative (-2.4156) indicating a high valuation for firms with lower margin.\n",
    "  \n",
    "  \n",
    "Large number of collinear variables.  How do we select ones that are useful yet uncorrelated?"
   ]
  },
  {
   "cell_type": "markdown",
   "metadata": {
    "deletable": true,
    "editable": true
   },
   "source": [
    "#### Print the summary of the model results"
   ]
  },
  {
   "cell_type": "code",
   "execution_count": 8,
   "metadata": {
    "collapsed": false,
    "deletable": true,
    "editable": true
   },
   "outputs": [
    {
     "name": "stdout",
     "output_type": "stream",
     "text": [
      "                            OLS Regression Results                            \n",
      "==============================================================================\n",
      "Dep. Variable:                    p/e   R-squared:                       0.796\n",
      "Model:                            OLS   Adj. R-squared:                  0.778\n",
      "Method:                 Least Squares   F-statistic:                     43.67\n",
      "Date:                Mon, 27 Mar 2017   Prob (F-statistic):           2.25e-40\n",
      "Time:                        15:06:11   Log-Likelihood:                -562.01\n",
      "No. Observations:                 146   AIC:                             1148.\n",
      "Df Residuals:                     134   BIC:                             1184.\n",
      "Df Model:                          12                                         \n",
      "Covariance Type:            nonrobust                                         \n",
      "==============================================================================================\n",
      "                                 coef    std err          t      P>|t|      [0.025      0.975]\n",
      "----------------------------------------------------------------------------------------------\n",
      "Pre-TaxROE                     1.8896      0.335      5.638      0.000       1.227       2.552\n",
      "AfterTaxROE                   -2.5335      0.502     -5.045      0.000      -3.527      -1.540\n",
      "CashRatio                      0.0055      0.034      0.163      0.871      -0.061       0.072\n",
      "QuickRatio                     0.0208      0.022      0.960      0.339      -0.022       0.064\n",
      "OperatingMargin                0.8222      0.375      2.193      0.030       0.081       1.564\n",
      "Pre-TaxMargin                 -2.4156      0.525     -4.600      0.000      -3.454      -1.377\n",
      "profit_margin                  2.6847      0.716      3.748      0.000       1.268       4.101\n",
      "operating_cash_flow_margin    -0.1172      0.221     -0.531      0.596      -0.553       0.319\n",
      "debt_to_equity                 2.8825      2.912      0.990      0.324      -2.876       8.641\n",
      "debt_to_asset                  5.1293     15.475      0.331      0.741     -25.477      35.735\n",
      "capital_surplus_to_asset       0.2159      0.062      3.473      0.001       0.093       0.339\n",
      "Goodwill_to_asset              0.2354      0.074      3.171      0.002       0.089       0.382\n",
      "==============================================================================\n",
      "Omnibus:                       28.850   Durbin-Watson:                   2.002\n",
      "Prob(Omnibus):                  0.000   Jarque-Bera (JB):              134.961\n",
      "Skew:                           0.522   Prob(JB):                     4.94e-30\n",
      "Kurtosis:                       7.593   Cond. No.                     2.65e+03\n",
      "==============================================================================\n",
      "\n",
      "Warnings:\n",
      "[1] Standard Errors assume that the covariance matrix of the errors is correctly specified.\n",
      "[2] The condition number is large, 2.65e+03. This might indicate that there are\n",
      "strong multicollinearity or other numerical problems.\n"
     ]
    }
   ],
   "source": [
    "print(result.summary())"
   ]
  },
  {
   "cell_type": "markdown",
   "metadata": {
    "deletable": true,
    "editable": true
   },
   "source": [
    "### Variable selection using L1 regression"
   ]
  },
  {
   "cell_type": "markdown",
   "metadata": {
    "deletable": true,
    "editable": true
   },
   "source": [
    "Notes:\n",
    "    Good model should be less complex.\n",
    "        * fit L1 penalized model  \n",
    "        * we choose the model with the minimal bayes information criterion (bic)\n",
    "        * this will force an increasing number of the parameters to zero\n",
    "        * the nonzero variables are the selected variables\n",
    "        * last we will refit the \"best\" model and interpret the variables"
   ]
  },
  {
   "cell_type": "markdown",
   "metadata": {},
   "source": [
    "#### Specify L1 Regression Model"
   ]
  },
  {
   "cell_type": "code",
   "execution_count": 9,
   "metadata": {
    "collapsed": false,
    "deletable": true,
    "editable": true
   },
   "outputs": [],
   "source": [
    "reg = lm.LassoLarsIC(normalize=True, criterion='bic')"
   ]
  },
  {
   "cell_type": "markdown",
   "metadata": {},
   "source": [
    "#### Fit the L1 Regression Model"
   ]
  },
  {
   "cell_type": "code",
   "execution_count": 10,
   "metadata": {
    "collapsed": false,
    "deletable": true,
    "editable": true
   },
   "outputs": [
    {
     "data": {
      "text/plain": [
       "LassoLarsIC(copy_X=True, criterion='bic', eps=2.2204460492503131e-16,\n",
       "      fit_intercept=True, max_iter=500, normalize=True, positive=False,\n",
       "      precompute='auto', verbose=False)"
      ]
     },
     "execution_count": 10,
     "metadata": {},
     "output_type": "execute_result"
    }
   ],
   "source": [
    "reg.fit(df[columns], df['p/e'])"
   ]
  },
  {
   "cell_type": "markdown",
   "metadata": {},
   "source": [
    "#### View the model coefficients"
   ]
  },
  {
   "cell_type": "code",
   "execution_count": 11,
   "metadata": {
    "collapsed": false,
    "deletable": true,
    "editable": true
   },
   "outputs": [
    {
     "data": {
      "text/plain": [
       "array([ 0.        , -0.36885292,  0.        ,  0.        ,  0.        ,\n",
       "        0.        ,  0.        , -0.0952389 ,  0.        ,  0.        ,\n",
       "        0.05578808,  0.14554785])"
      ]
     },
     "execution_count": 11,
     "metadata": {},
     "output_type": "execute_result"
    }
   ],
   "source": [
    "reg.coef_"
   ]
  },
  {
   "cell_type": "markdown",
   "metadata": {
    "deletable": true,
    "editable": true
   },
   "source": [
    "#### Select non-zero variables\n",
    "\n",
    "Of the twelve variables, the selected four variables can explain the data just as good as all twelve combined."
   ]
  },
  {
   "cell_type": "code",
   "execution_count": 12,
   "metadata": {
    "collapsed": false,
    "deletable": true,
    "editable": true
   },
   "outputs": [
    {
     "data": {
      "text/plain": [
       "['AfterTaxROE',\n",
       " 'operating_cash_flow_margin',\n",
       " 'capital_surplus_to_asset',\n",
       " 'Goodwill_to_asset']"
      ]
     },
     "execution_count": 12,
     "metadata": {},
     "output_type": "execute_result"
    }
   ],
   "source": [
    "subset_columns = [columns[i] for i in range(len(columns)) if abs(reg.coef_[i])>0]\n",
    "subset_columns"
   ]
  },
  {
   "cell_type": "markdown",
   "metadata": {
    "deletable": true,
    "editable": true
   },
   "source": [
    "### Run regression on the \"simple\" model"
   ]
  },
  {
   "cell_type": "markdown",
   "metadata": {
    "deletable": true,
    "editable": true
   },
   "source": [
    "#### Build a new regression model using the selected variables"
   ]
  },
  {
   "cell_type": "code",
   "execution_count": 13,
   "metadata": {
    "collapsed": true,
    "deletable": true,
    "editable": true
   },
   "outputs": [],
   "source": [
    "model = sms.OLS(df['p/e'], df[subset_columns])"
   ]
  },
  {
   "cell_type": "code",
   "execution_count": 14,
   "metadata": {
    "collapsed": false,
    "deletable": true,
    "editable": true
   },
   "outputs": [],
   "source": [
    "result = model.fit()      "
   ]
  },
  {
   "cell_type": "markdown",
   "metadata": {
    "deletable": true,
    "editable": true
   },
   "source": [
    "Notes:\n",
    "    * Adjusted R-Square at 0.705\n",
    "    \n",
    "    * The coefficient for AfterTaxROE is positive indicating that firms with higher ROE will be valued more than firms with lower ROE.  Note that this coefficient was negative in our \"all-variable\" model.\n",
    "    \n",
    "    * operating_cash_flow_margin which as insignificant in our previous model is significant now.\n",
    "    \n",
    "    \n",
    "Interpretation:\n",
    "    \n",
    "    Keeping all things the same,\n",
    "    * 1% increase in AfterTaxROE increases the P/E by 0.4343\n",
    "    * 1% increase in operating cash flow margin increases the P/E by 0.1946\n",
    "    * 1% increase in surplus capital relative to the asset increases the P/E by 0.2852\n",
    "    * 1% increase in goodwill relative to the asset increases the P/E by 0.3120"
   ]
  },
  {
   "cell_type": "code",
   "execution_count": 15,
   "metadata": {
    "collapsed": false,
    "deletable": true,
    "editable": true,
    "scrolled": true
   },
   "outputs": [
    {
     "name": "stdout",
     "output_type": "stream",
     "text": [
      "                            OLS Regression Results                            \n",
      "==============================================================================\n",
      "Dep. Variable:                    p/e   R-squared:                       0.713\n",
      "Model:                            OLS   Adj. R-squared:                  0.705\n",
      "Method:                 Least Squares   F-statistic:                     88.13\n",
      "Date:                Mon, 27 Mar 2017   Prob (F-statistic):           1.73e-37\n",
      "Time:                        15:06:12   Log-Likelihood:                -587.10\n",
      "No. Observations:                 146   AIC:                             1182.\n",
      "Df Residuals:                     142   BIC:                             1194.\n",
      "Df Model:                           4                                         \n",
      "Covariance Type:            nonrobust                                         \n",
      "==============================================================================================\n",
      "                                 coef    std err          t      P>|t|      [0.025      0.975]\n",
      "----------------------------------------------------------------------------------------------\n",
      "AfterTaxROE                    0.4343      0.113      3.837      0.000       0.211       0.658\n",
      "operating_cash_flow_margin     0.1946      0.119      1.637      0.104      -0.040       0.430\n",
      "capital_surplus_to_asset       0.2853      0.068      4.182      0.000       0.150       0.420\n",
      "Goodwill_to_asset              0.3121      0.070      4.472      0.000       0.174       0.450\n",
      "==============================================================================\n",
      "Omnibus:                       30.633   Durbin-Watson:                   1.943\n",
      "Prob(Omnibus):                  0.000   Jarque-Bera (JB):               78.192\n",
      "Skew:                           0.823   Prob(JB):                     1.05e-17\n",
      "Kurtosis:                       6.185   Cond. No.                         4.63\n",
      "==============================================================================\n",
      "\n",
      "Warnings:\n",
      "[1] Standard Errors assume that the covariance matrix of the errors is correctly specified.\n"
     ]
    }
   ],
   "source": [
    "print(result.summary())"
   ]
  },
  {
   "cell_type": "code",
   "execution_count": null,
   "metadata": {
    "collapsed": true,
    "deletable": true,
    "editable": true
   },
   "outputs": [],
   "source": []
  }
 ],
 "metadata": {
  "kernelspec": {
   "display_name": "Python 3",
   "language": "python",
   "name": "python3"
  },
  "language_info": {
   "codemirror_mode": {
    "name": "ipython",
    "version": 3
   },
   "file_extension": ".py",
   "mimetype": "text/x-python",
   "name": "python",
   "nbconvert_exporter": "python",
   "pygments_lexer": "ipython3",
   "version": "3.6.0"
  }
 },
 "nbformat": 4,
 "nbformat_minor": 2
}
